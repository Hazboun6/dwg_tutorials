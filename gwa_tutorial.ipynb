{
 "cells": [
  {
   "cell_type": "markdown",
   "metadata": {},
   "source": [
    "# Using enterprise to analyze PTA data\n",
    "\n",
    "In this notebook you will learn:\n",
    "* How to use `enterprise` to interact with IPTA data,\n",
    "* How to setup an analysis of indiviudual pulsar noise properties,\n",
    "* How to post-process your results."
   ]
  },
  {
   "cell_type": "markdown",
   "metadata": {},
   "source": [
    "# Load modules"
   ]
  },
  {
   "cell_type": "code",
   "execution_count": null,
   "metadata": {
    "ExecuteTime": {
     "end_time": "2018-05-15T17:42:33.177433Z",
     "start_time": "2018-05-15T17:42:31.657125Z"
    }
   },
   "outputs": [],
   "source": [
    "from __future__ import division\n",
    "\n",
    "%matplotlib inline\n",
    "%config InlineBackend.figure_format = 'retina'\n",
    "%load_ext autoreload\n",
    "%autoreload 2\n",
    "\n",
    "import os, glob, json, pickle\n",
    "import matplotlib.pyplot as plt\n",
    "import numpy as np\n",
    "import scipy.linalg as sl\n",
    "\n",
    "import enterprise\n",
    "from enterprise.pulsar import Pulsar\n",
    "import enterprise.signals.parameter as parameter\n",
    "from enterprise.signals import utils\n",
    "from enterprise.signals import signal_base\n",
    "from enterprise.signals import selections\n",
    "from enterprise.signals.selections import Selection\n",
    "from enterprise.signals import white_signals\n",
    "from enterprise.signals import gp_signals\n",
    "from enterprise.signals import deterministic_signals\n",
    "import enterprise.constants as const\n",
    "\n",
    "import corner\n",
    "from PTMCMCSampler.PTMCMCSampler import PTSampler as ptmcmc"
   ]
  },
  {
   "cell_type": "markdown",
   "metadata": {},
   "source": [
    "## Get par, tim, and noise files (this is not the preferred method when we have supplied pickled enterprise Pulsar files; see below)\n",
    "Here we collect the tim and par files. "
   ]
  },
  {
   "cell_type": "code",
   "execution_count": null,
   "metadata": {},
   "outputs": [],
   "source": [
    "psrlist = None # define a list of pulsar name strings that can be used to filter."
   ]
  },
  {
   "cell_type": "code",
   "execution_count": null,
   "metadata": {
    "ExecuteTime": {
     "end_time": "2018-05-15T17:42:39.433040Z",
     "start_time": "2018-05-15T17:42:39.407641Z"
    }
   },
   "outputs": [],
   "source": [
    "datadir = '/Users/taylosr8/Research/NANOGrav/NANOGrav_12y/' # set your data directory"
   ]
  },
  {
   "cell_type": "code",
   "execution_count": null,
   "metadata": {
    "ExecuteTime": {
     "end_time": "2018-05-15T17:42:40.533083Z",
     "start_time": "2018-05-15T17:42:40.500941Z"
    }
   },
   "outputs": [],
   "source": [
    "parfiles = sorted(glob.glob(datadir + 'par/*.par'))\n",
    "timfiles = sorted(glob.glob(datadir + 'tim/*.tim'))\n",
    "\n",
    "# filter\n",
    "if psrlist is not None:\n",
    "    parfiles = [x for x in parfiles if x.split('/')[-1].split('.')[0] in psrlist]\n",
    "    timfiles = [x for x in timfiles if x.split('/')[-1].split('.')[0] in psrlist]   \n",
    "    \n",
    "# Make sure you use the tempo2 parfile for J1713+0747!!\n",
    "# ...filtering out the tempo parfile... \n",
    "parfiles = [x for x in parfiles if 'J1713+0747_NANOGrav_12yv2.gls.par' not in x]"
   ]
  },
  {
   "cell_type": "code",
   "execution_count": null,
   "metadata": {
    "ExecuteTime": {
     "end_time": "2018-05-15T17:42:40.937284Z",
     "start_time": "2018-05-15T17:42:40.907923Z"
    }
   },
   "outputs": [],
   "source": [
    "len(parfiles)"
   ]
  },
  {
   "cell_type": "markdown",
   "metadata": {},
   "source": [
    "## Load into Pulsar class list"
   ]
  },
  {
   "cell_type": "markdown",
   "metadata": {},
   "source": [
    "* The `enterprise` Pulsar class uses `libstempo` to read in `par` and `tim` files, then stores all pulsar data into a `Pulsar` object. This object contains all data and meta-data needed for the ensuing pulsar and PTA analysis. You no longer to reference the `par` and `tim` files after this cell.\n",
    "* Note below that you can explicitly declare which version of the JPL solar-system ephemeris model that will be used to compute the Roemer delay between the geocenter and the barycenter (e.g. `DE438`). Otherwise the default values will be taken from the `par` files. Explicitly declaring the version here is good practice.\n",
    "* You can also explicitly set the clock file to a version of `BIPM`, e.g. `BIPM(2018)`. This is less important, and you can let the code take the value from the `par` file.\n",
    "* When you execute the following cell, you will get warnings like `WARNING: Could not find pulsar distance for PSR ...`. Don't worry! This is expected, and fine. Not all pulsars have well constrained distances, and will be set to `1 kpc` with a `20%` uncertainty."
   ]
  },
  {
   "cell_type": "markdown",
   "metadata": {
    "ExecuteTime": {
     "end_time": "2018-05-15T17:44:54.738924Z",
     "start_time": "2018-05-15T17:42:43.023316Z"
    }
   },
   "source": [
    "### Read par and tim files into enterprise Pulsar objects"
   ]
  },
  {
   "cell_type": "code",
   "execution_count": null,
   "metadata": {
    "ExecuteTime": {
     "end_time": "2018-05-15T17:44:54.738924Z",
     "start_time": "2018-05-15T17:42:43.023316Z"
    }
   },
   "outputs": [],
   "source": [
    "## Let's look at 1713\n",
    "psrs = []\n",
    "for p, t in zip(parfiles, timfiles):\n",
    "    if 'J1713' in p:\n",
    "        psr = Pulsar(p, t, ephem='DE438', clk='BIPM(2018)')\n",
    "        psrs.append(psr)"
   ]
  },
  {
   "cell_type": "markdown",
   "metadata": {},
   "source": [
    "## OR... load in enterprise pickled Pulsar instances that we've prepared!\n",
    "Go here for full details: https://paper.dropbox.com/doc/NG-12.5yr_v3-GWB-Analysis--A2zJbxQU704Oq9jU1oqAWJCHAQ-DICJei6NxsPjxnO90mGMo\n",
    "\n",
    "Pickled 12.5yr pulsars: https://drive.google.com/file/d/1GUcmdj9OMf7-hrAOydeHEO4ylQxgC9Kb/edit\n",
    "\n",
    "Noise files: https://drive.google.com/file/d/1V7bu2y5hxFSj_7KWO3uNM7Q_0dciXfSX/edit\n",
    "\n",
    "Empirical red noise proposal distributions: https://drive.google.com/file/d/19odsqZ93Wh8og1AGdU7SfvXzB0DJwipG/edit"
   ]
  },
  {
   "cell_type": "code",
   "execution_count": null,
   "metadata": {},
   "outputs": [],
   "source": [
    "## set your data directory\n",
    "datadir = '/Users/taylosr8/Downloads/' # set your data directory\n",
    "\n",
    "## read in pickles\n",
    "psrs = pickle.load(open(datadir + 'channelized_12yr_v3_partim_DE438.pkl', 'rb'))"
   ]
  },
  {
   "cell_type": "code",
   "execution_count": null,
   "metadata": {},
   "outputs": [],
   "source": [
    "## Get parameter noise dictionary\n",
    "noise_ng12 = datadir + 'channelized_12p5yr_v3_full_noisedict.json'\n",
    "\n",
    "params = {}\n",
    "with open(noise_ng12, 'r') as fp:\n",
    "    params.update(json.load(fp))"
   ]
  },
  {
   "cell_type": "code",
   "execution_count": null,
   "metadata": {},
   "outputs": [],
   "source": [
    "## Load in empirical distributions\n",
    "#emp_dists = pickle.load(open(datadir + '12yr_emp_dist_RNonly_py3.pkl', 'rb'))\n",
    "#emp_dists = '/home/stephen.taylor/NANOGrav/nanograv_12p5yr_analysis/nanograv_12p5yr_analysis_mar2020/data/12yr_emp_dist_RNonly_py3.pkl'"
   ]
  },
  {
   "cell_type": "markdown",
   "metadata": {},
   "source": [
    "# Single pulsar analysis"
   ]
  },
  {
   "cell_type": "markdown",
   "metadata": {
    "ExecuteTime": {
     "end_time": "2018-05-11T19:00:23.677385Z",
     "start_time": "2018-05-11T19:00:23.570716Z"
    }
   },
   "source": [
    "* `enterprise` is structured so that one first creates `parameters`, then `signals` that these `parameters` belong to, then finally a `model` that is the union of all `signals` and the `data`.\n",
    "\n",
    "* We will show this explciitly below, then introduce some model shortcut code that will make your life easier.\n",
    "* We test on `J1713+0747`."
   ]
  },
  {
   "cell_type": "code",
   "execution_count": null,
   "metadata": {
    "ExecuteTime": {
     "end_time": "2018-05-15T17:49:30.300840Z",
     "start_time": "2018-05-15T17:49:30.261826Z"
    }
   },
   "outputs": [],
   "source": [
    "psr = [p for p in psrs if p.name == 'J1713+0747'][0]"
   ]
  },
  {
   "cell_type": "code",
   "execution_count": null,
   "metadata": {
    "ExecuteTime": {
     "end_time": "2018-05-15T17:49:30.750433Z",
     "start_time": "2018-05-15T17:49:30.721856Z"
    }
   },
   "outputs": [],
   "source": [
    "# find the maximum time span to set red-noise/DM-variation frequency sampling\n",
    "tmin = psr.toas.min()\n",
    "tmax = psr.toas.max()\n",
    "Tspan = np.max(tmax) - np.min(tmin)"
   ]
  },
  {
   "cell_type": "code",
   "execution_count": null,
   "metadata": {
    "ExecuteTime": {
     "end_time": "2018-05-15T17:49:31.267060Z",
     "start_time": "2018-05-15T17:49:31.239006Z"
    }
   },
   "outputs": [],
   "source": [
    "# define selection by observing backend\n",
    "selection = selections.Selection(selections.by_backend)"
   ]
  },
  {
   "cell_type": "markdown",
   "metadata": {},
   "source": [
    "## Create parameters"
   ]
  },
  {
   "cell_type": "code",
   "execution_count": null,
   "metadata": {
    "ExecuteTime": {
     "end_time": "2018-05-15T18:05:15.402712Z",
     "start_time": "2018-05-15T18:05:15.370248Z"
    }
   },
   "outputs": [],
   "source": [
    "# white noise parameters\n",
    "white_vary = True\n",
    "if white_vary:\n",
    "    efac = parameter.Uniform(0.01, 10.0)\n",
    "    equad = parameter.Uniform(-8.5, -5)\n",
    "    ecorr = parameter.Uniform(-8.5, -5)\n",
    "else:\n",
    "    efac = parameter.Constant() \n",
    "    equad = parameter.Constant() \n",
    "    ecorr = parameter.Constant() # we'll set these later with the params dictionary\n",
    "\n",
    "# red noise parameters\n",
    "log10_A = parameter.Uniform(-20, -11)\n",
    "gamma = parameter.Uniform(0, 7)"
   ]
  },
  {
   "cell_type": "markdown",
   "metadata": {
    "ExecuteTime": {
     "end_time": "2018-05-15T18:05:16.054660Z",
     "start_time": "2018-05-15T18:05:16.013299Z"
    },
    "collapsed": true
   },
   "source": [
    "### [NOTE] If fixing white-noise, simply use the previously loaded params dictionary"
   ]
  },
  {
   "cell_type": "markdown",
   "metadata": {},
   "source": [
    "## Create signals"
   ]
  },
  {
   "cell_type": "code",
   "execution_count": null,
   "metadata": {
    "ExecuteTime": {
     "end_time": "2018-05-15T18:05:18.620288Z",
     "start_time": "2018-05-15T18:05:18.583614Z"
    }
   },
   "outputs": [],
   "source": [
    "# white noise\n",
    "ef = white_signals.MeasurementNoise(efac=efac, selection=selection)\n",
    "eq = white_signals.EquadNoise(log10_equad=equad, selection=selection)\n",
    "ec = white_signals.EcorrKernelNoise(log10_ecorr=ecorr, selection=selection)\n",
    "\n",
    "# red noise (powerlaw with 30 frequencies)\n",
    "pl = utils.powerlaw(log10_A=log10_A, gamma=gamma)\n",
    "rn = gp_signals.FourierBasisGP(spectrum=pl, components=30, Tspan=Tspan)\n",
    "\n",
    "# timing model\n",
    "tm = gp_signals.TimingModel(use_svd=True) # stabilizing timing model design matrix with SVD"
   ]
  },
  {
   "cell_type": "markdown",
   "metadata": {},
   "source": [
    "## Piece the full model together"
   ]
  },
  {
   "cell_type": "code",
   "execution_count": null,
   "metadata": {
    "ExecuteTime": {
     "end_time": "2018-05-15T18:05:19.245655Z",
     "start_time": "2018-05-15T18:05:19.214962Z"
    }
   },
   "outputs": [],
   "source": [
    "# full model\n",
    "s = ef + eq + ec + rn + tm"
   ]
  },
  {
   "cell_type": "code",
   "execution_count": null,
   "metadata": {
    "ExecuteTime": {
     "end_time": "2018-05-15T18:05:29.701318Z",
     "start_time": "2018-05-15T18:05:20.295739Z"
    }
   },
   "outputs": [],
   "source": [
    "# intialize a single-pulsar pta model\n",
    "# see how the \"model\" acts on the \"pulsar\" object...\n",
    "pta = signal_base.PTA(s(psr))"
   ]
  },
  {
   "cell_type": "code",
   "execution_count": null,
   "metadata": {
    "ExecuteTime": {
     "end_time": "2018-05-15T18:05:29.793302Z",
     "start_time": "2018-05-15T18:05:29.703707Z"
    }
   },
   "outputs": [],
   "source": [
    "# [Optional] Set white-noise parmeters from previous analysis\n",
    "pta.set_default_params(params)"
   ]
  },
  {
   "cell_type": "code",
   "execution_count": null,
   "metadata": {
    "ExecuteTime": {
     "end_time": "2018-05-15T18:05:29.821629Z",
     "start_time": "2018-05-15T18:05:29.795298Z"
    }
   },
   "outputs": [],
   "source": [
    "len(pta.params)"
   ]
  },
  {
   "cell_type": "markdown",
   "metadata": {},
   "source": [
    "## Draw initial sample from model parameter space"
   ]
  },
  {
   "cell_type": "code",
   "execution_count": null,
   "metadata": {
    "ExecuteTime": {
     "end_time": "2018-05-15T18:05:48.625620Z",
     "start_time": "2018-05-15T18:05:48.595761Z"
    }
   },
   "outputs": [],
   "source": [
    "x0 = np.hstack([p.sample() for p in pta.params])\n",
    "ndim = len(x0)"
   ]
  },
  {
   "cell_type": "code",
   "execution_count": null,
   "metadata": {},
   "outputs": [],
   "source": [
    "ndim"
   ]
  },
  {
   "cell_type": "markdown",
   "metadata": {},
   "source": [
    "## Setup sampler (simple, with no tricks)"
   ]
  },
  {
   "cell_type": "code",
   "execution_count": null,
   "metadata": {
    "ExecuteTime": {
     "end_time": "2018-05-15T18:05:49.721570Z",
     "start_time": "2018-05-15T18:05:49.690910Z"
    }
   },
   "outputs": [],
   "source": [
    "# initial jump covariance matrix\n",
    "cov = np.diag(np.ones(ndim) * 0.01**2) # helps to tune MCMC proposal distribution\n",
    "\n",
    "# where chains will be written to\n",
    "outdir = './chains_singlepsr_test_{}/'.format(str(psr.name))\n",
    "\n",
    "# sampler object\n",
    "sampler = ptmcmc(ndim, pta.get_lnlikelihood, pta.get_lnprior, cov,\n",
    "                 outDir=outdir, \n",
    "                 resume=False)"
   ]
  },
  {
   "cell_type": "markdown",
   "metadata": {},
   "source": [
    "## Sample the parameter space"
   ]
  },
  {
   "cell_type": "code",
   "execution_count": null,
   "metadata": {
    "ExecuteTime": {
     "end_time": "2018-05-15T18:07:34.298903Z",
     "start_time": "2018-05-15T18:05:51.594933Z"
    }
   },
   "outputs": [],
   "source": [
    "# sampler for N steps\n",
    "N = int(1e6)\n",
    "\n",
    "# SCAM = Single Component Adaptive Metropolis\n",
    "# AM = Adaptive Metropolis\n",
    "# DE = Differential Evolution\n",
    "## You can keep all these set at default values\n",
    "sampler.sample(x0, N, SCAMweight=30, AMweight=15, DEweight=50, )"
   ]
  },
  {
   "cell_type": "markdown",
   "metadata": {},
   "source": [
    "## Simple post-processing"
   ]
  },
  {
   "cell_type": "code",
   "execution_count": null,
   "metadata": {
    "ExecuteTime": {
     "end_time": "2018-05-15T21:14:29.205383Z",
     "start_time": "2018-05-15T21:14:28.983891Z"
    }
   },
   "outputs": [],
   "source": [
    "chain = np.loadtxt(outdir + 'chain_1.txt')\n",
    "burn = int(0.25 * chain.shape[0]) # experiment with burn-in"
   ]
  },
  {
   "cell_type": "code",
   "execution_count": null,
   "metadata": {
    "ExecuteTime": {
     "end_time": "2018-05-15T21:14:29.448022Z",
     "start_time": "2018-05-15T21:14:29.400142Z"
    }
   },
   "outputs": [],
   "source": [
    "# Find column of chain file corresponding to a parameter\n",
    "ind = list(pta.param_names).index('J1713+0747_log10_A')"
   ]
  },
  {
   "cell_type": "code",
   "execution_count": null,
   "metadata": {
    "ExecuteTime": {
     "end_time": "2018-05-15T18:08:16.630039Z",
     "start_time": "2018-05-15T18:08:16.283915Z"
    }
   },
   "outputs": [],
   "source": [
    "# Make trace-plot to diagnose sampling\n",
    "plt.plot(chain[burn:, ind])"
   ]
  },
  {
   "cell_type": "code",
   "execution_count": null,
   "metadata": {
    "ExecuteTime": {
     "end_time": "2018-05-15T18:08:17.503339Z",
     "start_time": "2018-05-15T18:08:17.323209Z"
    }
   },
   "outputs": [],
   "source": [
    "# Plot a histogram of the marginalized posterior distribution\n",
    "plt.hist(chain[burn:,ind], 50, normed=True, histtype='stepfilled', \n",
    "         lw=2, color='C0', alpha=0.5);\n",
    "plt.xlabel('J1713+0747_log10_A')\n",
    "plt.ylabel('PDF')"
   ]
  },
  {
   "cell_type": "code",
   "execution_count": null,
   "metadata": {
    "ExecuteTime": {
     "end_time": "2018-05-15T18:10:43.625371Z",
     "start_time": "2018-05-15T18:10:43.252841Z"
    }
   },
   "outputs": [],
   "source": [
    "# Make 2d histogram plot\n",
    "ind_redA = list(pta.param_names).index('J1713+0747_log10_A')\n",
    "ind_redgam = list(pta.param_names).index('J1713+0747_gamma')\n",
    "fig = corner.corner(chain[burn:, [ind_redA, ind_redgam]], \n",
    "                    labels=['J1713+0747_log10_A', 'J1713+0747_gamma'],\n",
    "                   levels=[0.68,0.95]);"
   ]
  },
  {
   "cell_type": "markdown",
   "metadata": {},
   "source": [
    "## Now, the easy way to do all of this\n",
    "\n",
    "Many of us have created shortcuts to carry out these tasks. You will find them in `enterprise_extensions`: https://github.com/nanograv/enterprise_extensions."
   ]
  },
  {
   "cell_type": "code",
   "execution_count": null,
   "metadata": {
    "ExecuteTime": {
     "end_time": "2018-05-15T21:14:51.711971Z",
     "start_time": "2018-05-15T21:14:51.659585Z"
    }
   },
   "outputs": [],
   "source": [
    "import enterprise_extensions\n",
    "from enterprise_extensions import models, model_utils"
   ]
  },
  {
   "cell_type": "code",
   "execution_count": null,
   "metadata": {
    "ExecuteTime": {
     "end_time": "2018-05-15T21:15:02.109579Z",
     "start_time": "2018-05-15T21:14:51.916806Z"
    }
   },
   "outputs": [],
   "source": [
    "# Create a single pulsar model\n",
    "pta = models.model_singlepsr_noise(psr, red_var=True, psd='powerlaw', \n",
    "                                   noisedict=None, white_vary=True, \n",
    "                                   tm_svd=True, components=30)"
   ]
  },
  {
   "cell_type": "code",
   "execution_count": null,
   "metadata": {},
   "outputs": [],
   "source": [
    "len(pta.params)"
   ]
  },
  {
   "cell_type": "code",
   "execution_count": null,
   "metadata": {},
   "outputs": [],
   "source": [
    "pta.params"
   ]
  },
  {
   "cell_type": "code",
   "execution_count": null,
   "metadata": {
    "ExecuteTime": {
     "end_time": "2018-05-15T21:15:20.657591Z",
     "start_time": "2018-05-15T21:15:20.614041Z"
    }
   },
   "outputs": [],
   "source": [
    "# Setup a sampler instance.\n",
    "# This will add some fanicer stuff than before, like prior draws, \n",
    "# and custom sample groupings.\n",
    "sampler = model_utils.setup_sampler(pta, outdir=outdir, resume=False)"
   ]
  },
  {
   "cell_type": "code",
   "execution_count": null,
   "metadata": {
    "ExecuteTime": {
     "end_time": "2018-05-15T21:22:08.883008Z",
     "start_time": "2018-05-15T21:15:23.402604Z"
    }
   },
   "outputs": [],
   "source": [
    "# sampler for N steps\n",
    "N = int(1e6)\n",
    "x0 = x0 = np.hstack(p.sample() for p in pta.params)\n",
    "\n",
    "# SCAM = Single Component Adaptive Metropolis\n",
    "# AM = Adaptive Metropolis\n",
    "# DE = Differential Evolution\n",
    "## You can keep all these set at default values\n",
    "sampler.sample(x0, N, SCAMweight=30, AMweight=15, DEweight=50, )"
   ]
  },
  {
   "cell_type": "code",
   "execution_count": null,
   "metadata": {
    "ExecuteTime": {
     "end_time": "2018-05-15T21:22:12.699593Z",
     "start_time": "2018-05-15T21:22:12.447631Z"
    }
   },
   "outputs": [],
   "source": [
    "chain = np.loadtxt(outdir + '/chain_1.txt')\n",
    "burn = int(0.25*chain.shape[0])\n",
    "pars = np.loadtxt(outdir + '/pars.txt', dtype=np.unicode_)"
   ]
  }
 ],
 "metadata": {
  "anaconda-cloud": {},
  "kernelspec": {
   "display_name": "Python 3",
   "language": "python",
   "name": "python3"
  },
  "language_info": {
   "codemirror_mode": {
    "name": "ipython",
    "version": 3
   },
   "file_extension": ".py",
   "mimetype": "text/x-python",
   "name": "python",
   "nbconvert_exporter": "python",
   "pygments_lexer": "ipython3",
   "version": "3.7.3"
  },
  "toc": {
   "nav_menu": {},
   "number_sections": true,
   "sideBar": true,
   "skip_h1_title": false,
   "toc_cell": false,
   "toc_position": {
    "height": "743px",
    "left": "0px",
    "right": "1458px",
    "top": "107px",
    "width": "212px"
   },
   "toc_section_display": "block",
   "toc_window_display": true
  }
 },
 "nbformat": 4,
 "nbformat_minor": 2
}
